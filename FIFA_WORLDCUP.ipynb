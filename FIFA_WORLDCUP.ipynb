{
  "cells": [
    {
      "cell_type": "markdown",
      "metadata": {
        "id": "view-in-github",
        "colab_type": "text"
      },
      "source": [
        "<a href=\"https://colab.research.google.com/github/Nithies08/fifa_WC-matches/blob/main/FIFA_WORLDCUP.ipynb\" target=\"_parent\"><img src=\"https://colab.research.google.com/assets/colab-badge.svg\" alt=\"Open In Colab\"/></a>"
      ]
    },
    {
      "cell_type": "code",
      "execution_count": null,
      "metadata": {
        "colab": {
          "background_save": true
        },
        "id": "apnVc15j84eZ"
      },
      "outputs": [],
      "source": [
        "import pandas as pd\n"
      ]
    },
    {
      "cell_type": "code",
      "execution_count": null,
      "metadata": {
        "id": "7-bTBo3v-5ZH"
      },
      "outputs": [],
      "source": [
        "from wordcloud import WordCloud"
      ]
    },
    {
      "cell_type": "code",
      "execution_count": null,
      "metadata": {
        "colab": {
          "background_save": true
        },
        "id": "m-wzqidN-06c"
      },
      "outputs": [],
      "source": [
        "import plotly.express as px"
      ]
    },
    {
      "cell_type": "code",
      "execution_count": null,
      "metadata": {
        "id": "X0fUQavh-hAM"
      },
      "outputs": [],
      "source": [
        "import matplotlib.pyplot as plt\n"
      ]
    },
    {
      "cell_type": "code",
      "execution_count": null,
      "metadata": {
        "id": "hrh8pEbY-l70"
      },
      "outputs": [],
      "source": [
        "import seaborn as sns"
      ]
    },
    {
      "cell_type": "code",
      "execution_count": null,
      "metadata": {
        "id": "fjCk79Rh-rzE"
      },
      "outputs": [],
      "source": [
        "%matplotlib inline"
      ]
    },
    {
      "cell_type": "code",
      "execution_count": null,
      "metadata": {
        "id": "wJhFU4cO-vml"
      },
      "outputs": [],
      "source": [
        "import numpy as np"
      ]
    },
    {
      "cell_type": "code",
      "execution_count": 9,
      "metadata": {
        "id": "ye2KIFuXDMPf"
      },
      "outputs": [],
      "source": [
        "fifa_df = pd.read_csv(\"/content/data.csv\",encoding='latin1')\n"
      ]
    },
    {
      "cell_type": "code",
      "execution_count": 10,
      "metadata": {
        "colab": {
          "base_uri": "https://localhost:8080/",
          "height": 141
        },
        "id": "mUtugzRgEIXx",
        "outputId": "d1f5a088-f3a5-4d1b-94de-a0704259e661"
      },
      "outputs": [
        {
          "output_type": "execute_result",
          "data": {
            "text/plain": [
              "   match dayofweek           match_time home_team away_team  home_xg  away_xg  \\\n",
              "0      1       Sun  2022-11-20 19:00:00     Qatar   Ecuador      0.3      1.2   \n",
              "1      2       Mon  2022-11-21 16:00:00   England   IR Iran      2.1      1.4   \n",
              "\n",
              "   score  attendance                          venue  ... home_clearances  \\\n",
              "0  0â2       67372                Al Bayt Stadium  ...              18   \n",
              "1  6â2       45334  Khalifa International Stadium  ...               4   \n",
              "\n",
              "  away_clearances home_offsides away_offsides home_gks away_gks  \\\n",
              "0               7             3             4        4        7   \n",
              "1              23             2             2        5        5   \n",
              "\n",
              "  home_throw_ins  away_throw_ins  home_long_balls  away_long_balls  \n",
              "0             20              17               51               70  \n",
              "1             18              17               87               50  \n",
              "\n",
              "[2 rows x 53 columns]"
            ],
            "text/html": [
              "\n",
              "  <div id=\"df-4b5dffa7-780a-4623-a1a5-989aa9ce00f2\" class=\"colab-df-container\">\n",
              "    <div>\n",
              "<style scoped>\n",
              "    .dataframe tbody tr th:only-of-type {\n",
              "        vertical-align: middle;\n",
              "    }\n",
              "\n",
              "    .dataframe tbody tr th {\n",
              "        vertical-align: top;\n",
              "    }\n",
              "\n",
              "    .dataframe thead th {\n",
              "        text-align: right;\n",
              "    }\n",
              "</style>\n",
              "<table border=\"1\" class=\"dataframe\">\n",
              "  <thead>\n",
              "    <tr style=\"text-align: right;\">\n",
              "      <th></th>\n",
              "      <th>match</th>\n",
              "      <th>dayofweek</th>\n",
              "      <th>match_time</th>\n",
              "      <th>home_team</th>\n",
              "      <th>away_team</th>\n",
              "      <th>home_xg</th>\n",
              "      <th>away_xg</th>\n",
              "      <th>score</th>\n",
              "      <th>attendance</th>\n",
              "      <th>venue</th>\n",
              "      <th>...</th>\n",
              "      <th>home_clearances</th>\n",
              "      <th>away_clearances</th>\n",
              "      <th>home_offsides</th>\n",
              "      <th>away_offsides</th>\n",
              "      <th>home_gks</th>\n",
              "      <th>away_gks</th>\n",
              "      <th>home_throw_ins</th>\n",
              "      <th>away_throw_ins</th>\n",
              "      <th>home_long_balls</th>\n",
              "      <th>away_long_balls</th>\n",
              "    </tr>\n",
              "  </thead>\n",
              "  <tbody>\n",
              "    <tr>\n",
              "      <th>0</th>\n",
              "      <td>1</td>\n",
              "      <td>Sun</td>\n",
              "      <td>2022-11-20 19:00:00</td>\n",
              "      <td>Qatar</td>\n",
              "      <td>Ecuador</td>\n",
              "      <td>0.3</td>\n",
              "      <td>1.2</td>\n",
              "      <td>0â2</td>\n",
              "      <td>67372</td>\n",
              "      <td>Al Bayt Stadium</td>\n",
              "      <td>...</td>\n",
              "      <td>18</td>\n",
              "      <td>7</td>\n",
              "      <td>3</td>\n",
              "      <td>4</td>\n",
              "      <td>4</td>\n",
              "      <td>7</td>\n",
              "      <td>20</td>\n",
              "      <td>17</td>\n",
              "      <td>51</td>\n",
              "      <td>70</td>\n",
              "    </tr>\n",
              "    <tr>\n",
              "      <th>1</th>\n",
              "      <td>2</td>\n",
              "      <td>Mon</td>\n",
              "      <td>2022-11-21 16:00:00</td>\n",
              "      <td>England</td>\n",
              "      <td>IR Iran</td>\n",
              "      <td>2.1</td>\n",
              "      <td>1.4</td>\n",
              "      <td>6â2</td>\n",
              "      <td>45334</td>\n",
              "      <td>Khalifa International Stadium</td>\n",
              "      <td>...</td>\n",
              "      <td>4</td>\n",
              "      <td>23</td>\n",
              "      <td>2</td>\n",
              "      <td>2</td>\n",
              "      <td>5</td>\n",
              "      <td>5</td>\n",
              "      <td>18</td>\n",
              "      <td>17</td>\n",
              "      <td>87</td>\n",
              "      <td>50</td>\n",
              "    </tr>\n",
              "  </tbody>\n",
              "</table>\n",
              "<p>2 rows × 53 columns</p>\n",
              "</div>\n",
              "    <div class=\"colab-df-buttons\">\n",
              "\n",
              "  <div class=\"colab-df-container\">\n",
              "    <button class=\"colab-df-convert\" onclick=\"convertToInteractive('df-4b5dffa7-780a-4623-a1a5-989aa9ce00f2')\"\n",
              "            title=\"Convert this dataframe to an interactive table.\"\n",
              "            style=\"display:none;\">\n",
              "\n",
              "  <svg xmlns=\"http://www.w3.org/2000/svg\" height=\"24px\" viewBox=\"0 -960 960 960\">\n",
              "    <path d=\"M120-120v-720h720v720H120Zm60-500h600v-160H180v160Zm220 220h160v-160H400v160Zm0 220h160v-160H400v160ZM180-400h160v-160H180v160Zm440 0h160v-160H620v160ZM180-180h160v-160H180v160Zm440 0h160v-160H620v160Z\"/>\n",
              "  </svg>\n",
              "    </button>\n",
              "\n",
              "  <style>\n",
              "    .colab-df-container {\n",
              "      display:flex;\n",
              "      gap: 12px;\n",
              "    }\n",
              "\n",
              "    .colab-df-convert {\n",
              "      background-color: #E8F0FE;\n",
              "      border: none;\n",
              "      border-radius: 50%;\n",
              "      cursor: pointer;\n",
              "      display: none;\n",
              "      fill: #1967D2;\n",
              "      height: 32px;\n",
              "      padding: 0 0 0 0;\n",
              "      width: 32px;\n",
              "    }\n",
              "\n",
              "    .colab-df-convert:hover {\n",
              "      background-color: #E2EBFA;\n",
              "      box-shadow: 0px 1px 2px rgba(60, 64, 67, 0.3), 0px 1px 3px 1px rgba(60, 64, 67, 0.15);\n",
              "      fill: #174EA6;\n",
              "    }\n",
              "\n",
              "    .colab-df-buttons div {\n",
              "      margin-bottom: 4px;\n",
              "    }\n",
              "\n",
              "    [theme=dark] .colab-df-convert {\n",
              "      background-color: #3B4455;\n",
              "      fill: #D2E3FC;\n",
              "    }\n",
              "\n",
              "    [theme=dark] .colab-df-convert:hover {\n",
              "      background-color: #434B5C;\n",
              "      box-shadow: 0px 1px 3px 1px rgba(0, 0, 0, 0.15);\n",
              "      filter: drop-shadow(0px 1px 2px rgba(0, 0, 0, 0.3));\n",
              "      fill: #FFFFFF;\n",
              "    }\n",
              "  </style>\n",
              "\n",
              "    <script>\n",
              "      const buttonEl =\n",
              "        document.querySelector('#df-4b5dffa7-780a-4623-a1a5-989aa9ce00f2 button.colab-df-convert');\n",
              "      buttonEl.style.display =\n",
              "        google.colab.kernel.accessAllowed ? 'block' : 'none';\n",
              "\n",
              "      async function convertToInteractive(key) {\n",
              "        const element = document.querySelector('#df-4b5dffa7-780a-4623-a1a5-989aa9ce00f2');\n",
              "        const dataTable =\n",
              "          await google.colab.kernel.invokeFunction('convertToInteractive',\n",
              "                                                    [key], {});\n",
              "        if (!dataTable) return;\n",
              "\n",
              "        const docLinkHtml = 'Like what you see? Visit the ' +\n",
              "          '<a target=\"_blank\" href=https://colab.research.google.com/notebooks/data_table.ipynb>data table notebook</a>'\n",
              "          + ' to learn more about interactive tables.';\n",
              "        element.innerHTML = '';\n",
              "        dataTable['output_type'] = 'display_data';\n",
              "        await google.colab.output.renderOutput(dataTable, element);\n",
              "        const docLink = document.createElement('div');\n",
              "        docLink.innerHTML = docLinkHtml;\n",
              "        element.appendChild(docLink);\n",
              "      }\n",
              "    </script>\n",
              "  </div>\n",
              "\n",
              "\n",
              "<div id=\"df-28fa0f8f-3ac7-4669-b708-ca4d98731f25\">\n",
              "  <button class=\"colab-df-quickchart\" onclick=\"quickchart('df-28fa0f8f-3ac7-4669-b708-ca4d98731f25')\"\n",
              "            title=\"Suggest charts\"\n",
              "            style=\"display:none;\">\n",
              "\n",
              "<svg xmlns=\"http://www.w3.org/2000/svg\" height=\"24px\"viewBox=\"0 0 24 24\"\n",
              "     width=\"24px\">\n",
              "    <g>\n",
              "        <path d=\"M19 3H5c-1.1 0-2 .9-2 2v14c0 1.1.9 2 2 2h14c1.1 0 2-.9 2-2V5c0-1.1-.9-2-2-2zM9 17H7v-7h2v7zm4 0h-2V7h2v10zm4 0h-2v-4h2v4z\"/>\n",
              "    </g>\n",
              "</svg>\n",
              "  </button>\n",
              "\n",
              "<style>\n",
              "  .colab-df-quickchart {\n",
              "      --bg-color: #E8F0FE;\n",
              "      --fill-color: #1967D2;\n",
              "      --hover-bg-color: #E2EBFA;\n",
              "      --hover-fill-color: #174EA6;\n",
              "      --disabled-fill-color: #AAA;\n",
              "      --disabled-bg-color: #DDD;\n",
              "  }\n",
              "\n",
              "  [theme=dark] .colab-df-quickchart {\n",
              "      --bg-color: #3B4455;\n",
              "      --fill-color: #D2E3FC;\n",
              "      --hover-bg-color: #434B5C;\n",
              "      --hover-fill-color: #FFFFFF;\n",
              "      --disabled-bg-color: #3B4455;\n",
              "      --disabled-fill-color: #666;\n",
              "  }\n",
              "\n",
              "  .colab-df-quickchart {\n",
              "    background-color: var(--bg-color);\n",
              "    border: none;\n",
              "    border-radius: 50%;\n",
              "    cursor: pointer;\n",
              "    display: none;\n",
              "    fill: var(--fill-color);\n",
              "    height: 32px;\n",
              "    padding: 0;\n",
              "    width: 32px;\n",
              "  }\n",
              "\n",
              "  .colab-df-quickchart:hover {\n",
              "    background-color: var(--hover-bg-color);\n",
              "    box-shadow: 0 1px 2px rgba(60, 64, 67, 0.3), 0 1px 3px 1px rgba(60, 64, 67, 0.15);\n",
              "    fill: var(--button-hover-fill-color);\n",
              "  }\n",
              "\n",
              "  .colab-df-quickchart-complete:disabled,\n",
              "  .colab-df-quickchart-complete:disabled:hover {\n",
              "    background-color: var(--disabled-bg-color);\n",
              "    fill: var(--disabled-fill-color);\n",
              "    box-shadow: none;\n",
              "  }\n",
              "\n",
              "  .colab-df-spinner {\n",
              "    border: 2px solid var(--fill-color);\n",
              "    border-color: transparent;\n",
              "    border-bottom-color: var(--fill-color);\n",
              "    animation:\n",
              "      spin 1s steps(1) infinite;\n",
              "  }\n",
              "\n",
              "  @keyframes spin {\n",
              "    0% {\n",
              "      border-color: transparent;\n",
              "      border-bottom-color: var(--fill-color);\n",
              "      border-left-color: var(--fill-color);\n",
              "    }\n",
              "    20% {\n",
              "      border-color: transparent;\n",
              "      border-left-color: var(--fill-color);\n",
              "      border-top-color: var(--fill-color);\n",
              "    }\n",
              "    30% {\n",
              "      border-color: transparent;\n",
              "      border-left-color: var(--fill-color);\n",
              "      border-top-color: var(--fill-color);\n",
              "      border-right-color: var(--fill-color);\n",
              "    }\n",
              "    40% {\n",
              "      border-color: transparent;\n",
              "      border-right-color: var(--fill-color);\n",
              "      border-top-color: var(--fill-color);\n",
              "    }\n",
              "    60% {\n",
              "      border-color: transparent;\n",
              "      border-right-color: var(--fill-color);\n",
              "    }\n",
              "    80% {\n",
              "      border-color: transparent;\n",
              "      border-right-color: var(--fill-color);\n",
              "      border-bottom-color: var(--fill-color);\n",
              "    }\n",
              "    90% {\n",
              "      border-color: transparent;\n",
              "      border-bottom-color: var(--fill-color);\n",
              "    }\n",
              "  }\n",
              "</style>\n",
              "\n",
              "  <script>\n",
              "    async function quickchart(key) {\n",
              "      const quickchartButtonEl =\n",
              "        document.querySelector('#' + key + ' button');\n",
              "      quickchartButtonEl.disabled = true;  // To prevent multiple clicks.\n",
              "      quickchartButtonEl.classList.add('colab-df-spinner');\n",
              "      try {\n",
              "        const charts = await google.colab.kernel.invokeFunction(\n",
              "            'suggestCharts', [key], {});\n",
              "      } catch (error) {\n",
              "        console.error('Error during call to suggestCharts:', error);\n",
              "      }\n",
              "      quickchartButtonEl.classList.remove('colab-df-spinner');\n",
              "      quickchartButtonEl.classList.add('colab-df-quickchart-complete');\n",
              "    }\n",
              "    (() => {\n",
              "      let quickchartButtonEl =\n",
              "        document.querySelector('#df-28fa0f8f-3ac7-4669-b708-ca4d98731f25 button');\n",
              "      quickchartButtonEl.style.display =\n",
              "        google.colab.kernel.accessAllowed ? 'block' : 'none';\n",
              "    })();\n",
              "  </script>\n",
              "</div>\n",
              "\n",
              "    </div>\n",
              "  </div>\n"
            ],
            "application/vnd.google.colaboratory.intrinsic+json": {
              "type": "dataframe",
              "variable_name": "fifa_df"
            }
          },
          "metadata": {},
          "execution_count": 10
        }
      ],
      "source": [
        "fifa_df.head(2)"
      ]
    },
    {
      "cell_type": "code",
      "execution_count": 11,
      "metadata": {
        "colab": {
          "base_uri": "https://localhost:8080/"
        },
        "id": "mmGOnbVTEMa1",
        "outputId": "332f6681-5c27-440d-90b2-bbf173a104c3"
      },
      "outputs": [
        {
          "output_type": "execute_result",
          "data": {
            "text/plain": [
              "match                    0\n",
              "dayofweek                0\n",
              "match_time               0\n",
              "home_team                0\n",
              "away_team                0\n",
              "home_xg                  0\n",
              "away_xg                  0\n",
              "score                    0\n",
              "attendance               0\n",
              "venue                    0\n",
              "referee                  0\n",
              "home_formation           0\n",
              "away_formation           0\n",
              "home_captain             0\n",
              "away_captain             0\n",
              "home_manager             0\n",
              "away_manager             0\n",
              "home_possession          0\n",
              "away_possession          0\n",
              "home_completed_passes    0\n",
              "home_attempted_pases     0\n",
              "away_completed_passes    0\n",
              "away_attempted_pases     0\n",
              "home_sot                 0\n",
              "away_sot                 0\n",
              "home_total_shots         0\n",
              "away_total_shots         0\n",
              "home_saves               0\n",
              "away_saves               0\n",
              "home_fouls               0\n",
              "away_fouls               0\n",
              "home_corners             0\n",
              "away_corners             0\n",
              "home_crosses             0\n",
              "away_crosses             0\n",
              "home_touches             0\n",
              "away_touches             0\n",
              "home_tackles             0\n",
              "away_tackles             0\n",
              "home_interceptions       0\n",
              "away_interceptions       0\n",
              "home_aerials_won         0\n",
              "away_aerials_won         0\n",
              "home_clearances          0\n",
              "away_clearances          0\n",
              "home_offsides            0\n",
              "away_offsides            0\n",
              "home_gks                 0\n",
              "away_gks                 0\n",
              "home_throw_ins           0\n",
              "away_throw_ins           0\n",
              "home_long_balls          0\n",
              "away_long_balls          0\n",
              "dtype: int64"
            ]
          },
          "metadata": {},
          "execution_count": 11
        }
      ],
      "source": [
        "fifa_df.isnull().sum()"
      ]
    },
    {
      "cell_type": "code",
      "source": [
        "from sklearn.impute import KNNImputer\n",
        "# Introduce missing values into the 'home_saves' column (for demonstration purposes)\n",
        "missing_indices = np.random.choice(fifa_df.index, size=int(0.1 * len(fifa_df)), replace=False)  # Randomly select 10% of rows\n",
        "fifa_df.loc[missing_indices, 'home_saves'] = np.nan\n",
        "\n",
        "# Handle missing data using KNN imputation\n",
        "imputer = KNNImputer(n_neighbors=5)  # Choose the number of neighbors\n",
        "data_imputed = imputer.fit_transform(fifa_df[['home_saves']])\n",
        "\n",
        "# Replace the 'home_saves' column with imputed values\n",
        "fifa_df['home_saves'] = data_imputed\n",
        "\n",
        "# Verify the imputation results (optional)\n",
        "# Check if any missing values remain in the 'Price' column after imputation\n",
        "missing_values_after_imputation = fifa_df['home_saves'].isnull().sum()\n",
        "print(\"Missing values in 'home_saves' column after imputation:\", missing_values_after_imputation)"
      ],
      "metadata": {
        "colab": {
          "base_uri": "https://localhost:8080/"
        },
        "id": "syAJpkrv_uwA",
        "outputId": "fbaa9e14-9eb0-43f6-fad3-c39ba0896ec9"
      },
      "execution_count": 14,
      "outputs": [
        {
          "output_type": "stream",
          "name": "stdout",
          "text": [
            "Missing values in 'home_saves' column after imputation: 0\n"
          ]
        }
      ]
    },
    {
      "cell_type": "code",
      "execution_count": 15,
      "metadata": {
        "id": "qiWXF1zrgLkk"
      },
      "outputs": [],
      "source": [
        "fifa_df = pd.read_csv(\"/content/data.csv\",encoding='latin1')\n",
        "group_stat_df=pd.read_csv(\"/content/group_stats.csv\",encoding='latin1')"
      ]
    },
    {
      "cell_type": "code",
      "execution_count": 16,
      "metadata": {
        "colab": {
          "base_uri": "https://localhost:8080/"
        },
        "id": "IFzOJRfOhrzZ",
        "outputId": "07cb6e07-3fce-424d-8aca-bce1e1a7ca03"
      },
      "outputs": [
        {
          "output_type": "execute_result",
          "data": {
            "text/plain": [
              "venue\n",
              "Lusail Iconic Stadium            10\n",
              "Al Bayt Stadium                   9\n",
              "Khalifa International Stadium     8\n",
              "Al Thumama Stadium                8\n",
              "Education City Stadium            8\n",
              "Ahmed bin Ali Stadium             7\n",
              "Stadium 974                       7\n",
              "Al Janoub Stadium                 7\n",
              "Name: count, dtype: int64"
            ]
          },
          "metadata": {},
          "execution_count": 16
        }
      ],
      "source": [
        "fifa_df['venue'].value_counts()\n"
      ]
    },
    {
      "cell_type": "code",
      "execution_count": 17,
      "metadata": {
        "colab": {
          "base_uri": "https://localhost:8080/",
          "height": 542
        },
        "id": "VWLjgF9QiF5j",
        "outputId": "cce75854-a5c3-46f5-8b1a-c9795778754d"
      },
      "outputs": [
        {
          "output_type": "display_data",
          "data": {
            "text/html": [
              "<html>\n",
              "<head><meta charset=\"utf-8\" /></head>\n",
              "<body>\n",
              "    <div>            <script src=\"https://cdnjs.cloudflare.com/ajax/libs/mathjax/2.7.5/MathJax.js?config=TeX-AMS-MML_SVG\"></script><script type=\"text/javascript\">if (window.MathJax && window.MathJax.Hub && window.MathJax.Hub.Config) {window.MathJax.Hub.Config({SVG: {font: \"STIX-Web\"}});}</script>                <script type=\"text/javascript\">window.PlotlyConfig = {MathJaxConfig: 'local'};</script>\n",
              "        <script charset=\"utf-8\" src=\"https://cdn.plot.ly/plotly-2.24.1.min.js\"></script>                <div id=\"51b2b219-c976-4366-b6bf-4394b4612ca4\" class=\"plotly-graph-div\" style=\"height:525px; width:100%;\"></div>            <script type=\"text/javascript\">                                    window.PLOTLYENV=window.PLOTLYENV || {};                                    if (document.getElementById(\"51b2b219-c976-4366-b6bf-4394b4612ca4\")) {                    Plotly.newPlot(                        \"51b2b219-c976-4366-b6bf-4394b4612ca4\",                        [{\"alignmentgroup\":\"True\",\"hovertemplate\":\"Venue=%{x}\\u003cbr\\u003eMatches=%{y}\\u003cextra\\u003e\\u003c\\u002fextra\\u003e\",\"legendgroup\":\"Lusail Iconic Stadium\",\"marker\":{\"color\":\"#636efa\",\"pattern\":{\"shape\":\"\"}},\"name\":\"Lusail Iconic Stadium\",\"offsetgroup\":\"Lusail Iconic Stadium\",\"orientation\":\"v\",\"showlegend\":true,\"textposition\":\"auto\",\"x\":[\"Lusail Iconic Stadium\"],\"xaxis\":\"x\",\"y\":[10],\"yaxis\":\"y\",\"type\":\"bar\"},{\"alignmentgroup\":\"True\",\"hovertemplate\":\"Venue=%{x}\\u003cbr\\u003eMatches=%{y}\\u003cextra\\u003e\\u003c\\u002fextra\\u003e\",\"legendgroup\":\"Al Bayt Stadium\",\"marker\":{\"color\":\"#EF553B\",\"pattern\":{\"shape\":\"\"}},\"name\":\"Al Bayt Stadium\",\"offsetgroup\":\"Al Bayt Stadium\",\"orientation\":\"v\",\"showlegend\":true,\"textposition\":\"auto\",\"x\":[\"Al Bayt Stadium\"],\"xaxis\":\"x\",\"y\":[9],\"yaxis\":\"y\",\"type\":\"bar\"},{\"alignmentgroup\":\"True\",\"hovertemplate\":\"Venue=%{x}\\u003cbr\\u003eMatches=%{y}\\u003cextra\\u003e\\u003c\\u002fextra\\u003e\",\"legendgroup\":\"Khalifa International Stadium\",\"marker\":{\"color\":\"#00cc96\",\"pattern\":{\"shape\":\"\"}},\"name\":\"Khalifa International Stadium\",\"offsetgroup\":\"Khalifa International Stadium\",\"orientation\":\"v\",\"showlegend\":true,\"textposition\":\"auto\",\"x\":[\"Khalifa International Stadium\"],\"xaxis\":\"x\",\"y\":[8],\"yaxis\":\"y\",\"type\":\"bar\"},{\"alignmentgroup\":\"True\",\"hovertemplate\":\"Venue=%{x}\\u003cbr\\u003eMatches=%{y}\\u003cextra\\u003e\\u003c\\u002fextra\\u003e\",\"legendgroup\":\"Al Thumama Stadium\",\"marker\":{\"color\":\"#ab63fa\",\"pattern\":{\"shape\":\"\"}},\"name\":\"Al Thumama Stadium\",\"offsetgroup\":\"Al Thumama Stadium\",\"orientation\":\"v\",\"showlegend\":true,\"textposition\":\"auto\",\"x\":[\"Al Thumama Stadium\"],\"xaxis\":\"x\",\"y\":[8],\"yaxis\":\"y\",\"type\":\"bar\"},{\"alignmentgroup\":\"True\",\"hovertemplate\":\"Venue=%{x}\\u003cbr\\u003eMatches=%{y}\\u003cextra\\u003e\\u003c\\u002fextra\\u003e\",\"legendgroup\":\"Education City Stadium\",\"marker\":{\"color\":\"#FFA15A\",\"pattern\":{\"shape\":\"\"}},\"name\":\"Education City Stadium\",\"offsetgroup\":\"Education City Stadium\",\"orientation\":\"v\",\"showlegend\":true,\"textposition\":\"auto\",\"x\":[\"Education City Stadium\"],\"xaxis\":\"x\",\"y\":[8],\"yaxis\":\"y\",\"type\":\"bar\"},{\"alignmentgroup\":\"True\",\"hovertemplate\":\"Venue=%{x}\\u003cbr\\u003eMatches=%{y}\\u003cextra\\u003e\\u003c\\u002fextra\\u003e\",\"legendgroup\":\"Ahmed bin Ali Stadium\",\"marker\":{\"color\":\"#19d3f3\",\"pattern\":{\"shape\":\"\"}},\"name\":\"Ahmed bin Ali Stadium\",\"offsetgroup\":\"Ahmed bin Ali Stadium\",\"orientation\":\"v\",\"showlegend\":true,\"textposition\":\"auto\",\"x\":[\"Ahmed bin Ali Stadium\"],\"xaxis\":\"x\",\"y\":[7],\"yaxis\":\"y\",\"type\":\"bar\"},{\"alignmentgroup\":\"True\",\"hovertemplate\":\"Venue=%{x}\\u003cbr\\u003eMatches=%{y}\\u003cextra\\u003e\\u003c\\u002fextra\\u003e\",\"legendgroup\":\"Stadium 974\",\"marker\":{\"color\":\"#FF6692\",\"pattern\":{\"shape\":\"\"}},\"name\":\"Stadium 974\",\"offsetgroup\":\"Stadium 974\",\"orientation\":\"v\",\"showlegend\":true,\"textposition\":\"auto\",\"x\":[\"Stadium 974\"],\"xaxis\":\"x\",\"y\":[7],\"yaxis\":\"y\",\"type\":\"bar\"},{\"alignmentgroup\":\"True\",\"hovertemplate\":\"Venue=%{x}\\u003cbr\\u003eMatches=%{y}\\u003cextra\\u003e\\u003c\\u002fextra\\u003e\",\"legendgroup\":\"Al Janoub Stadium\",\"marker\":{\"color\":\"#B6E880\",\"pattern\":{\"shape\":\"\"}},\"name\":\"Al Janoub Stadium\",\"offsetgroup\":\"Al Janoub Stadium\",\"orientation\":\"v\",\"showlegend\":true,\"textposition\":\"auto\",\"x\":[\"Al Janoub Stadium\"],\"xaxis\":\"x\",\"y\":[7],\"yaxis\":\"y\",\"type\":\"bar\"}],                        {\"template\":{\"data\":{\"histogram2dcontour\":[{\"type\":\"histogram2dcontour\",\"colorbar\":{\"outlinewidth\":0,\"ticks\":\"\"},\"colorscale\":[[0.0,\"#0d0887\"],[0.1111111111111111,\"#46039f\"],[0.2222222222222222,\"#7201a8\"],[0.3333333333333333,\"#9c179e\"],[0.4444444444444444,\"#bd3786\"],[0.5555555555555556,\"#d8576b\"],[0.6666666666666666,\"#ed7953\"],[0.7777777777777778,\"#fb9f3a\"],[0.8888888888888888,\"#fdca26\"],[1.0,\"#f0f921\"]]}],\"choropleth\":[{\"type\":\"choropleth\",\"colorbar\":{\"outlinewidth\":0,\"ticks\":\"\"}}],\"histogram2d\":[{\"type\":\"histogram2d\",\"colorbar\":{\"outlinewidth\":0,\"ticks\":\"\"},\"colorscale\":[[0.0,\"#0d0887\"],[0.1111111111111111,\"#46039f\"],[0.2222222222222222,\"#7201a8\"],[0.3333333333333333,\"#9c179e\"],[0.4444444444444444,\"#bd3786\"],[0.5555555555555556,\"#d8576b\"],[0.6666666666666666,\"#ed7953\"],[0.7777777777777778,\"#fb9f3a\"],[0.8888888888888888,\"#fdca26\"],[1.0,\"#f0f921\"]]}],\"heatmap\":[{\"type\":\"heatmap\",\"colorbar\":{\"outlinewidth\":0,\"ticks\":\"\"},\"colorscale\":[[0.0,\"#0d0887\"],[0.1111111111111111,\"#46039f\"],[0.2222222222222222,\"#7201a8\"],[0.3333333333333333,\"#9c179e\"],[0.4444444444444444,\"#bd3786\"],[0.5555555555555556,\"#d8576b\"],[0.6666666666666666,\"#ed7953\"],[0.7777777777777778,\"#fb9f3a\"],[0.8888888888888888,\"#fdca26\"],[1.0,\"#f0f921\"]]}],\"heatmapgl\":[{\"type\":\"heatmapgl\",\"colorbar\":{\"outlinewidth\":0,\"ticks\":\"\"},\"colorscale\":[[0.0,\"#0d0887\"],[0.1111111111111111,\"#46039f\"],[0.2222222222222222,\"#7201a8\"],[0.3333333333333333,\"#9c179e\"],[0.4444444444444444,\"#bd3786\"],[0.5555555555555556,\"#d8576b\"],[0.6666666666666666,\"#ed7953\"],[0.7777777777777778,\"#fb9f3a\"],[0.8888888888888888,\"#fdca26\"],[1.0,\"#f0f921\"]]}],\"contourcarpet\":[{\"type\":\"contourcarpet\",\"colorbar\":{\"outlinewidth\":0,\"ticks\":\"\"}}],\"contour\":[{\"type\":\"contour\",\"colorbar\":{\"outlinewidth\":0,\"ticks\":\"\"},\"colorscale\":[[0.0,\"#0d0887\"],[0.1111111111111111,\"#46039f\"],[0.2222222222222222,\"#7201a8\"],[0.3333333333333333,\"#9c179e\"],[0.4444444444444444,\"#bd3786\"],[0.5555555555555556,\"#d8576b\"],[0.6666666666666666,\"#ed7953\"],[0.7777777777777778,\"#fb9f3a\"],[0.8888888888888888,\"#fdca26\"],[1.0,\"#f0f921\"]]}],\"surface\":[{\"type\":\"surface\",\"colorbar\":{\"outlinewidth\":0,\"ticks\":\"\"},\"colorscale\":[[0.0,\"#0d0887\"],[0.1111111111111111,\"#46039f\"],[0.2222222222222222,\"#7201a8\"],[0.3333333333333333,\"#9c179e\"],[0.4444444444444444,\"#bd3786\"],[0.5555555555555556,\"#d8576b\"],[0.6666666666666666,\"#ed7953\"],[0.7777777777777778,\"#fb9f3a\"],[0.8888888888888888,\"#fdca26\"],[1.0,\"#f0f921\"]]}],\"mesh3d\":[{\"type\":\"mesh3d\",\"colorbar\":{\"outlinewidth\":0,\"ticks\":\"\"}}],\"scatter\":[{\"fillpattern\":{\"fillmode\":\"overlay\",\"size\":10,\"solidity\":0.2},\"type\":\"scatter\"}],\"parcoords\":[{\"type\":\"parcoords\",\"line\":{\"colorbar\":{\"outlinewidth\":0,\"ticks\":\"\"}}}],\"scatterpolargl\":[{\"type\":\"scatterpolargl\",\"marker\":{\"colorbar\":{\"outlinewidth\":0,\"ticks\":\"\"}}}],\"bar\":[{\"error_x\":{\"color\":\"#2a3f5f\"},\"error_y\":{\"color\":\"#2a3f5f\"},\"marker\":{\"line\":{\"color\":\"#E5ECF6\",\"width\":0.5},\"pattern\":{\"fillmode\":\"overlay\",\"size\":10,\"solidity\":0.2}},\"type\":\"bar\"}],\"scattergeo\":[{\"type\":\"scattergeo\",\"marker\":{\"colorbar\":{\"outlinewidth\":0,\"ticks\":\"\"}}}],\"scatterpolar\":[{\"type\":\"scatterpolar\",\"marker\":{\"colorbar\":{\"outlinewidth\":0,\"ticks\":\"\"}}}],\"histogram\":[{\"marker\":{\"pattern\":{\"fillmode\":\"overlay\",\"size\":10,\"solidity\":0.2}},\"type\":\"histogram\"}],\"scattergl\":[{\"type\":\"scattergl\",\"marker\":{\"colorbar\":{\"outlinewidth\":0,\"ticks\":\"\"}}}],\"scatter3d\":[{\"type\":\"scatter3d\",\"line\":{\"colorbar\":{\"outlinewidth\":0,\"ticks\":\"\"}},\"marker\":{\"colorbar\":{\"outlinewidth\":0,\"ticks\":\"\"}}}],\"scattermapbox\":[{\"type\":\"scattermapbox\",\"marker\":{\"colorbar\":{\"outlinewidth\":0,\"ticks\":\"\"}}}],\"scatterternary\":[{\"type\":\"scatterternary\",\"marker\":{\"colorbar\":{\"outlinewidth\":0,\"ticks\":\"\"}}}],\"scattercarpet\":[{\"type\":\"scattercarpet\",\"marker\":{\"colorbar\":{\"outlinewidth\":0,\"ticks\":\"\"}}}],\"carpet\":[{\"aaxis\":{\"endlinecolor\":\"#2a3f5f\",\"gridcolor\":\"white\",\"linecolor\":\"white\",\"minorgridcolor\":\"white\",\"startlinecolor\":\"#2a3f5f\"},\"baxis\":{\"endlinecolor\":\"#2a3f5f\",\"gridcolor\":\"white\",\"linecolor\":\"white\",\"minorgridcolor\":\"white\",\"startlinecolor\":\"#2a3f5f\"},\"type\":\"carpet\"}],\"table\":[{\"cells\":{\"fill\":{\"color\":\"#EBF0F8\"},\"line\":{\"color\":\"white\"}},\"header\":{\"fill\":{\"color\":\"#C8D4E3\"},\"line\":{\"color\":\"white\"}},\"type\":\"table\"}],\"barpolar\":[{\"marker\":{\"line\":{\"color\":\"#E5ECF6\",\"width\":0.5},\"pattern\":{\"fillmode\":\"overlay\",\"size\":10,\"solidity\":0.2}},\"type\":\"barpolar\"}],\"pie\":[{\"automargin\":true,\"type\":\"pie\"}]},\"layout\":{\"autotypenumbers\":\"strict\",\"colorway\":[\"#636efa\",\"#EF553B\",\"#00cc96\",\"#ab63fa\",\"#FFA15A\",\"#19d3f3\",\"#FF6692\",\"#B6E880\",\"#FF97FF\",\"#FECB52\"],\"font\":{\"color\":\"#2a3f5f\"},\"hovermode\":\"closest\",\"hoverlabel\":{\"align\":\"left\"},\"paper_bgcolor\":\"white\",\"plot_bgcolor\":\"#E5ECF6\",\"polar\":{\"bgcolor\":\"#E5ECF6\",\"angularaxis\":{\"gridcolor\":\"white\",\"linecolor\":\"white\",\"ticks\":\"\"},\"radialaxis\":{\"gridcolor\":\"white\",\"linecolor\":\"white\",\"ticks\":\"\"}},\"ternary\":{\"bgcolor\":\"#E5ECF6\",\"aaxis\":{\"gridcolor\":\"white\",\"linecolor\":\"white\",\"ticks\":\"\"},\"baxis\":{\"gridcolor\":\"white\",\"linecolor\":\"white\",\"ticks\":\"\"},\"caxis\":{\"gridcolor\":\"white\",\"linecolor\":\"white\",\"ticks\":\"\"}},\"coloraxis\":{\"colorbar\":{\"outlinewidth\":0,\"ticks\":\"\"}},\"colorscale\":{\"sequential\":[[0.0,\"#0d0887\"],[0.1111111111111111,\"#46039f\"],[0.2222222222222222,\"#7201a8\"],[0.3333333333333333,\"#9c179e\"],[0.4444444444444444,\"#bd3786\"],[0.5555555555555556,\"#d8576b\"],[0.6666666666666666,\"#ed7953\"],[0.7777777777777778,\"#fb9f3a\"],[0.8888888888888888,\"#fdca26\"],[1.0,\"#f0f921\"]],\"sequentialminus\":[[0.0,\"#0d0887\"],[0.1111111111111111,\"#46039f\"],[0.2222222222222222,\"#7201a8\"],[0.3333333333333333,\"#9c179e\"],[0.4444444444444444,\"#bd3786\"],[0.5555555555555556,\"#d8576b\"],[0.6666666666666666,\"#ed7953\"],[0.7777777777777778,\"#fb9f3a\"],[0.8888888888888888,\"#fdca26\"],[1.0,\"#f0f921\"]],\"diverging\":[[0,\"#8e0152\"],[0.1,\"#c51b7d\"],[0.2,\"#de77ae\"],[0.3,\"#f1b6da\"],[0.4,\"#fde0ef\"],[0.5,\"#f7f7f7\"],[0.6,\"#e6f5d0\"],[0.7,\"#b8e186\"],[0.8,\"#7fbc41\"],[0.9,\"#4d9221\"],[1,\"#276419\"]]},\"xaxis\":{\"gridcolor\":\"white\",\"linecolor\":\"white\",\"ticks\":\"\",\"title\":{\"standoff\":15},\"zerolinecolor\":\"white\",\"automargin\":true,\"zerolinewidth\":2},\"yaxis\":{\"gridcolor\":\"white\",\"linecolor\":\"white\",\"ticks\":\"\",\"title\":{\"standoff\":15},\"zerolinecolor\":\"white\",\"automargin\":true,\"zerolinewidth\":2},\"scene\":{\"xaxis\":{\"backgroundcolor\":\"#E5ECF6\",\"gridcolor\":\"white\",\"linecolor\":\"white\",\"showbackground\":true,\"ticks\":\"\",\"zerolinecolor\":\"white\",\"gridwidth\":2},\"yaxis\":{\"backgroundcolor\":\"#E5ECF6\",\"gridcolor\":\"white\",\"linecolor\":\"white\",\"showbackground\":true,\"ticks\":\"\",\"zerolinecolor\":\"white\",\"gridwidth\":2},\"zaxis\":{\"backgroundcolor\":\"#E5ECF6\",\"gridcolor\":\"white\",\"linecolor\":\"white\",\"showbackground\":true,\"ticks\":\"\",\"zerolinecolor\":\"white\",\"gridwidth\":2}},\"shapedefaults\":{\"line\":{\"color\":\"#2a3f5f\"}},\"annotationdefaults\":{\"arrowcolor\":\"#2a3f5f\",\"arrowhead\":0,\"arrowwidth\":1},\"geo\":{\"bgcolor\":\"white\",\"landcolor\":\"#E5ECF6\",\"subunitcolor\":\"white\",\"showland\":true,\"showlakes\":true,\"lakecolor\":\"white\"},\"title\":{\"x\":0.05},\"mapbox\":{\"style\":\"light\"}}},\"xaxis\":{\"anchor\":\"y\",\"domain\":[0.0,1.0],\"title\":{\"text\":\"Venue\"},\"categoryorder\":\"array\",\"categoryarray\":[\"Lusail Iconic Stadium\",\"Al Bayt Stadium\",\"Khalifa International Stadium\",\"Al Thumama Stadium\",\"Education City Stadium\",\"Ahmed bin Ali Stadium\",\"Stadium 974\",\"Al Janoub Stadium\"]},\"yaxis\":{\"anchor\":\"x\",\"domain\":[0.0,1.0],\"title\":{\"text\":\"Matches\"}},\"legend\":{\"title\":{\"text\":\"Venue\"},\"tracegroupgap\":0},\"title\":{\"text\":\"Venue v\\u002fs No of Matches Played at Venue\"},\"barmode\":\"relative\"},                        {\"responsive\": true}                    ).then(function(){\n",
              "                            \n",
              "var gd = document.getElementById('51b2b219-c976-4366-b6bf-4394b4612ca4');\n",
              "var x = new MutationObserver(function (mutations, observer) {{\n",
              "        var display = window.getComputedStyle(gd).display;\n",
              "        if (!display || display === 'none') {{\n",
              "            console.log([gd, 'removed!']);\n",
              "            Plotly.purge(gd);\n",
              "            observer.disconnect();\n",
              "        }}\n",
              "}});\n",
              "\n",
              "// Listen for the removal of the full notebook cells\n",
              "var notebookContainer = gd.closest('#notebook-container');\n",
              "if (notebookContainer) {{\n",
              "    x.observe(notebookContainer, {childList: true});\n",
              "}}\n",
              "\n",
              "// Listen for the clearing of the current output cell\n",
              "var outputEl = gd.closest('.output');\n",
              "if (outputEl) {{\n",
              "    x.observe(outputEl, {childList: true});\n",
              "}}\n",
              "\n",
              "                        })                };                            </script>        </div>\n",
              "</body>\n",
              "</html>"
            ]
          },
          "metadata": {}
        }
      ],
      "source": [
        "x = fifa_df['venue'].value_counts().index\n",
        "y = fifa_df['venue'].value_counts().values\n",
        "\n",
        "df = pd.DataFrame({'Venue':x,\n",
        "                  'Matches':fifa_df['venue'].value_counts().values })\n",
        "\n",
        "fig = px.bar(df,\n",
        "             x='Venue',\n",
        "             y='Matches',\n",
        "             color='Venue',\n",
        "             title='Venue v/s No of Matches Played at Venue'\n",
        "            )\n",
        "fig.show()"
      ]
    },
    {
      "cell_type": "code",
      "execution_count": 21,
      "metadata": {
        "colab": {
          "base_uri": "https://localhost:8080/"
        },
        "id": "xtPYenIHipzR",
        "outputId": "e56a05e3-a2d7-4f12-8450-a834d93ded79"
      },
      "outputs": [
        {
          "output_type": "stream",
          "name": "stdout",
          "text": [
            "home_xg    0.791486\n",
            "away_xg    0.909422\n",
            "dtype: float64\n"
          ]
        }
      ],
      "source": [
        "variance=fifa_df[[\"home_xg\",\"away_xg\"]].var()\n",
        "print(variance)"
      ]
    },
    {
      "cell_type": "code",
      "execution_count": 22,
      "metadata": {
        "colab": {
          "base_uri": "https://localhost:8080/"
        },
        "id": "m3qugHEokP0w",
        "outputId": "2c857c81-3354-4fe4-8601-704a073c32a9"
      },
      "outputs": [
        {
          "output_type": "stream",
          "name": "stdout",
          "text": [
            "correlation matrix:\n",
            "          home_xg   away_xg\n",
            "home_xg  1.000000 -0.240948\n",
            "away_xg -0.240948  1.000000\n"
          ]
        }
      ],
      "source": [
        "correlation_matrix=fifa_df[['home_xg','away_xg']].corr()\n",
        "print(\"correlation matrix:\")\n",
        "print(correlation_matrix)"
      ]
    },
    {
      "cell_type": "code",
      "execution_count": 23,
      "metadata": {
        "colab": {
          "base_uri": "https://localhost:8080/",
          "height": 545
        },
        "id": "9TjsRd5slIu7",
        "outputId": "ace3e155-a6ab-47be-90a5-ffe8d1e7e8b0"
      },
      "outputs": [
        {
          "output_type": "display_data",
          "data": {
            "text/plain": [
              "<Figure size 800x600 with 2 Axes>"
            ],
            "image/png": "[encoded data removed]"
          },
          "metadata": {}
        }
      ],
      "source": [
        "plt.figure(figsize=(8,6))\n",
        "sns.heatmap(correlation_matrix,annot=True,cmap='coolwarm', fmt=\".2f\")\n",
        "plt.title('Heatmap of correlation matrix:')\n",
        "plt.show()"
      ]
    },
    {
      "cell_type": "code",
      "execution_count": 24,
      "metadata": {
        "colab": {
          "base_uri": "https://localhost:8080/",
          "height": 780
        },
        "id": "asvJ1c4Wl79-",
        "outputId": "86236af9-485b-4c57-8fb5-660eb979f36a"
      },
      "outputs": [
        {
          "output_type": "display_data",
          "data": {
            "text/plain": [
              "<Figure size 1000x800 with 4 Axes>"
            ],
            "image/png": "[encoded data removed]"
          },
          "metadata": {}
        }
      ],
      "source": [
        "pd.plotting.scatter_matrix(fifa_df[['home_xg','away_xg']],figsize=(10,8))\n",
        "plt.suptitle('scatter plot matrix')\n",
        "plt.show()"
      ]
    },
    {
      "cell_type": "markdown",
      "metadata": {
        "id": "vzWbjKdsm2v2"
      },
      "source": []
    },
    {
      "cell_type": "code",
      "execution_count": 26,
      "metadata": {
        "colab": {
          "base_uri": "https://localhost:8080/",
          "height": 564
        },
        "id": "-Sb-MUNpmoXE",
        "outputId": "8fef8b26-87b1-4b38-ca9b-e3e5e74daff9"
      },
      "outputs": [
        {
          "output_type": "display_data",
          "data": {
            "text/plain": [
              "<Figure size 800x600 with 1 Axes>"
            ],
            "image/png": "[encoded data removed]"
          },
          "metadata": {}
        }
      ],
      "source": [
        "plt.figure(figsize=(8,6))\n",
        "plt.scatter(fifa_df['home_total_shots'],fifa_df['away_total_shots'],color='green')\n",
        "plt.title('scatter plot of home total shots vs away total shots')\n",
        "plt.xlabel('home_total_shots')\n",
        "plt.ylabel('away_total_shots')\n",
        "plt.show()"
      ]
    },
    {
      "cell_type": "code",
      "execution_count": 27,
      "metadata": {
        "colab": {
          "base_uri": "https://localhost:8080/",
          "height": 564
        },
        "id": "-y4DMqdLoR9a",
        "outputId": "6075eecb-231f-4116-a017-42e385b24c26"
      },
      "outputs": [
        {
          "output_type": "display_data",
          "data": {
            "text/plain": [
              "<Figure size 800x600 with 1 Axes>"
            ],
            "image/png": "[encoded data removed]"
          },
          "metadata": {}
        }
      ],
      "source": [
        "# prompt: scatter plot for home total shots vs away total shots\n",
        "\n",
        "import matplotlib.pyplot as plt\n",
        "plt.figure(figsize=(8,6))\n",
        "plt.scatter(fifa_df['home_total_shots'],fifa_df['away_total_shots'],color='green')\n",
        "plt.title('scatter plot of home total shots vs away total shots')\n",
        "plt.xlabel('home_total_shots')\n",
        "plt.ylabel('away_total_shots')\n",
        "plt.show()\n"
      ]
    },
    {
      "cell_type": "code",
      "execution_count": 28,
      "metadata": {
        "colab": {
          "base_uri": "https://localhost:8080/"
        },
        "id": "A2_RJFElo8C3",
        "outputId": "5c44aaae-9b07-40d2-db0d-ed90d8e5a627"
      },
      "outputs": [
        {
          "output_type": "stream",
          "name": "stdout",
          "text": [
            "    match dayofweek           match_time      home_team     away_team  \\\n",
            "0       1       Sun  2022-11-20 19:00:00          Qatar       Ecuador   \n",
            "1       2       Mon  2022-11-21 16:00:00        England       IR Iran   \n",
            "2       3       Mon  2022-11-21 19:00:00        Senegal   Netherlands   \n",
            "3       4       Mon  2022-11-21 22:00:00  United States         Wales   \n",
            "4       5       Tue  2022-11-22 13:00:00      Argentina  Saudi Arabia   \n",
            "..    ...       ...                  ...            ...           ...   \n",
            "59     60       Sat  2022-12-10 22:00:00        England        France   \n",
            "60     61       Tue  2022-12-13 22:00:00      Argentina       Croatia   \n",
            "61     62       Wed  2022-12-14 22:00:00         France       Morocco   \n",
            "62     63       Sat  2022-12-17 18:00:00        Croatia       Morocco   \n",
            "63     64       Sun  2022-12-18 18:00:00      Argentina        France   \n",
            "\n",
            "    home_xg  away_xg          score  attendance  \\\n",
            "0       0.3      1.2          0â2       67372   \n",
            "1       2.1      1.4          6â2       45334   \n",
            "2       0.9      0.7          0â2       41721   \n",
            "3       0.8      1.5          1â1       43418   \n",
            "4       2.2      0.1          1â2       88012   \n",
            "..      ...      ...            ...         ...   \n",
            "59      2.4      0.9          1â2       68895   \n",
            "60      2.3      0.5          3â0       88966   \n",
            "61      1.9      0.9          2â0       68294   \n",
            "62      0.7      1.2          2â1       44137   \n",
            "63      3.3      2.2  (4) 3â3 (2)       88966   \n",
            "\n",
            "                            venue  ... away_clearances home_offsides  \\\n",
            "0                 Al Bayt Stadium  ...               7             3   \n",
            "1   Khalifa International Stadium  ...              23             2   \n",
            "2              Al Thumama Stadium  ...              16             2   \n",
            "3           Ahmed bin Ali Stadium  ...              31             1   \n",
            "4           Lusail Iconic Stadium  ...              26            10   \n",
            "..                            ...  ...             ...           ...   \n",
            "59                Al Bayt Stadium  ...              16             1   \n",
            "60          Lusail Iconic Stadium  ...               6             1   \n",
            "61                Al Bayt Stadium  ...               3             4   \n",
            "62  Khalifa International Stadium  ...              16             2   \n",
            "63          Lusail Iconic Stadium  ...              18             4   \n",
            "\n",
            "   away_offsides home_gks away_gks home_throw_ins away_throw_ins  \\\n",
            "0              4        4        7             20             17   \n",
            "1              2        5        5             18             17   \n",
            "2              1        6       10             17             28   \n",
            "3              1        5       10             22             25   \n",
            "4              1        3        9             24             13   \n",
            "..           ...      ...      ...            ...            ...   \n",
            "59             2        9        5             16             14   \n",
            "60             0        9        4             19             21   \n",
            "61             3        8       10             14             18   \n",
            "62             2       12       11             14             19   \n",
            "63             4        6       13             26             21   \n",
            "\n",
            "    home_long_balls  away_long_balls  cluster  \n",
            "0                51               70        1  \n",
            "1                87               50        2  \n",
            "2                64               66        1  \n",
            "3                56               90        1  \n",
            "4                55               59        2  \n",
            "..              ...              ...      ...  \n",
            "59               61               62        2  \n",
            "60               49               43        2  \n",
            "61               55               40        2  \n",
            "62               53               46        1  \n",
            "63               73               94        2  \n",
            "\n",
            "[64 rows x 54 columns]\n"
          ]
        },
        {
          "output_type": "stream",
          "name": "stderr",
          "text": [
            "/usr/local/lib/python3.10/dist-packages/sklearn/cluster/_kmeans.py:870: FutureWarning:\n",
            "\n",
            "The default value of `n_init` will change from 10 to 'auto' in 1.4. Set the value of `n_init` explicitly to suppress the warning\n",
            "\n"
          ]
        }
      ],
      "source": [
        "# prompt: k means clustering for the above\n",
        "\n",
        "from sklearn.cluster import KMeans\n",
        "\n",
        "\n",
        "kmeans = KMeans(n_clusters=3)\n",
        "\n",
        "kmeans.fit( fifa_df[['home_xg', 'away_xg']])\n",
        "\n",
        "\n",
        "\n",
        "\n",
        "# Add the cluster assignments to the DataFrame\n",
        "fifa_df['cluster'] = kmeans.labels_\n",
        "print(fifa_df)\n",
        "# Print the cluster assignments\n",
        "\n"
      ]
    },
    {
      "cell_type": "code",
      "execution_count": 31,
      "metadata": {
        "colab": {
          "base_uri": "https://localhost:8080/"
        },
        "id": "h-uwgLt2pM21",
        "outputId": "f33cf7a8-dead-46ae-d050-3ee75b2ab018"
      },
      "outputs": [
        {
          "output_type": "stream",
          "name": "stdout",
          "text": [
            "(array([43]), array([1]))\n",
            "    match dayofweek           match_time      home_team     away_team  \\\n",
            "0       1       Sun  2022-11-20 19:00:00          Qatar       Ecuador   \n",
            "1       2       Mon  2022-11-21 16:00:00        England       IR Iran   \n",
            "2       3       Mon  2022-11-21 19:00:00        Senegal   Netherlands   \n",
            "3       4       Mon  2022-11-21 22:00:00  United States         Wales   \n",
            "4       5       Tue  2022-11-22 13:00:00      Argentina  Saudi Arabia   \n",
            "..    ...       ...                  ...            ...           ...   \n",
            "59     60       Sat  2022-12-10 22:00:00        England        France   \n",
            "60     61       Tue  2022-12-13 22:00:00      Argentina       Croatia   \n",
            "61     62       Wed  2022-12-14 22:00:00         France       Morocco   \n",
            "62     63       Sat  2022-12-17 18:00:00        Croatia       Morocco   \n",
            "63     64       Sun  2022-12-18 18:00:00      Argentina        France   \n",
            "\n",
            "    home_xg  away_xg          score  attendance  \\\n",
            "0       0.3      1.2          0â2       67372   \n",
            "1       2.1      1.4          6â2       45334   \n",
            "2       0.9      0.7          0â2       41721   \n",
            "3       0.8      1.5          1â1       43418   \n",
            "4       2.2      0.1          1â2       88012   \n",
            "..      ...      ...            ...         ...   \n",
            "59      2.4      0.9          1â2       68895   \n",
            "60      2.3      0.5          3â0       88966   \n",
            "61      1.9      0.9          2â0       68294   \n",
            "62      0.7      1.2          2â1       44137   \n",
            "63      3.3      2.2  (4) 3â3 (2)       88966   \n",
            "\n",
            "                            venue  ... away_clearances home_offsides  \\\n",
            "0                 Al Bayt Stadium  ...               7             3   \n",
            "1   Khalifa International Stadium  ...              23             2   \n",
            "2              Al Thumama Stadium  ...              16             2   \n",
            "3           Ahmed bin Ali Stadium  ...              31             1   \n",
            "4           Lusail Iconic Stadium  ...              26            10   \n",
            "..                            ...  ...             ...           ...   \n",
            "59                Al Bayt Stadium  ...              16             1   \n",
            "60          Lusail Iconic Stadium  ...               6             1   \n",
            "61                Al Bayt Stadium  ...               3             4   \n",
            "62  Khalifa International Stadium  ...              16             2   \n",
            "63          Lusail Iconic Stadium  ...              18             4   \n",
            "\n",
            "   away_offsides home_gks away_gks home_throw_ins away_throw_ins  \\\n",
            "0              4        4        7             20             17   \n",
            "1              2        5        5             18             17   \n",
            "2              1        6       10             17             28   \n",
            "3              1        5       10             22             25   \n",
            "4              1        3        9             24             13   \n",
            "..           ...      ...      ...            ...            ...   \n",
            "59             2        9        5             16             14   \n",
            "60             0        9        4             19             21   \n",
            "61             3        8       10             14             18   \n",
            "62             2       12       11             14             19   \n",
            "63             4        6       13             26             21   \n",
            "\n",
            "    home_long_balls  away_long_balls  cluster  \n",
            "0                51               70        1  \n",
            "1                87               50        2  \n",
            "2                64               66        1  \n",
            "3                56               90        1  \n",
            "4                55               59        2  \n",
            "..              ...              ...      ...  \n",
            "59               61               62        2  \n",
            "60               49               43        2  \n",
            "61               55               40        2  \n",
            "62               53               46        1  \n",
            "63               73               94        2  \n",
            "\n",
            "[64 rows x 54 columns]\n"
          ]
        }
      ],
      "source": [
        "# Check if 'X' is defined\n",
        "if 'X' not in globals():\n",
        "    # Initialize 'X' with appropriate data\n",
        "    X = fifa_df[['home_xg', 'away_xg']]\n",
        "\n",
        "# Calculate the z-score for each data point\n",
        "z_scores = np.abs((X - X.mean()) / X.std())\n",
        "\n",
        "# Identify outliers as data points with z-scores greater than 3\n",
        "outliers = np.where(z_scores > 3)\n",
        "\n",
        "# Print the indices of the outliers\n",
        "print(outliers)\n",
        "print(fifa_df)"
      ]
    },
    {
      "cell_type": "code",
      "execution_count": 32,
      "metadata": {
        "id": "oSlA7goJqDWB",
        "colab": {
          "base_uri": "https://localhost:8080/",
          "height": 472
        },
        "outputId": "1a2702a1-01b1-4f4b-d33a-1887de8d7796"
      },
      "outputs": [
        {
          "output_type": "display_data",
          "data": {
            "text/plain": [
              "<Figure size 640x480 with 1 Axes>"
            ],
            "image/png": "[encoded data removed]"
          },
          "metadata": {}
        }
      ],
      "source": [
        "# prompt: plot the outliers\n",
        "\n",
        "import matplotlib.pyplot as plt\n",
        "# Plot the data points\n",
        "plt.scatter(fifa_df['home_xg'], fifa_df['away_xg'])\n",
        "\n",
        "# Highlight the outliers\n",
        "plt.scatter(fifa_df.loc[outliers[0], 'home_xg'], fifa_df.loc[outliers[0], 'away_xg'], color='red')\n",
        "\n",
        "# Label the axes and title\n",
        "plt.xlabel('home_xg')\n",
        "plt.ylabel('away_xg')\n",
        "plt.title('Outliers in home_xg vs away_xg')\n",
        "\n",
        "# Show the plot\n",
        "plt.show()\n"
      ]
    },
    {
      "cell_type": "code",
      "source": [
        "import pandas as pd\n",
        "import seaborn as sns\n",
        "import matplotlib.pyplot as plt\n",
        "import numpy as np\n",
        "%matplotlib inline\n",
        "import warnings\n",
        "warnings.filterwarnings('ignore')\n",
        "from sklearn.cluster import KMeans, DBSCAN\n",
        "from sklearn.preprocessing import StandardScaler, LabelEncoder\n",
        "from sklearn.neighbors import NearestNeighbors\n",
        "import scipy\n",
        "from sklearn.metrics import silhouette_score\n"
      ],
      "metadata": {
        "id": "qe6s9AVnENoP"
      },
      "execution_count": 33,
      "outputs": []
    },
    {
      "cell_type": "code",
      "source": [
        "pip install pandas scikit-learn matplotlib\n"
      ],
      "metadata": {
        "colab": {
          "base_uri": "https://localhost:8080/"
        },
        "id": "sr8DtxIrER8M",
        "outputId": "4c282d9d-8127-4f7f-b992-931e988007e8"
      },
      "execution_count": 34,
      "outputs": [
        {
          "output_type": "stream",
          "name": "stdout",
          "text": [
            "Requirement already satisfied: pandas in /usr/local/lib/python3.10/dist-packages (2.0.3)\n",
            "Requirement already satisfied: scikit-learn in /usr/local/lib/python3.10/dist-packages (1.2.2)\n",
            "Requirement already satisfied: matplotlib in /usr/local/lib/python3.10/dist-packages (3.7.1)\n",
            "Requirement already satisfied: python-dateutil>=2.8.2 in /usr/local/lib/python3.10/dist-packages (from pandas) (2.8.2)\n",
            "Requirement already satisfied: pytz>=2020.1 in /usr/local/lib/python3.10/dist-packages (from pandas) (2023.4)\n",
            "Requirement already satisfied: tzdata>=2022.1 in /usr/local/lib/python3.10/dist-packages (from pandas) (2024.1)\n",
            "Requirement already satisfied: numpy>=1.21.0 in /usr/local/lib/python3.10/dist-packages (from pandas) (1.25.2)\n",
            "Requirement already satisfied: scipy>=1.3.2 in /usr/local/lib/python3.10/dist-packages (from scikit-learn) (1.11.4)\n",
            "Requirement already satisfied: joblib>=1.1.1 in /usr/local/lib/python3.10/dist-packages (from scikit-learn) (1.4.0)\n",
            "Requirement already satisfied: threadpoolctl>=2.0.0 in /usr/local/lib/python3.10/dist-packages (from scikit-learn) (3.4.0)\n",
            "Requirement already satisfied: contourpy>=1.0.1 in /usr/local/lib/python3.10/dist-packages (from matplotlib) (1.2.1)\n",
            "Requirement already satisfied: cycler>=0.10 in /usr/local/lib/python3.10/dist-packages (from matplotlib) (0.12.1)\n",
            "Requirement already satisfied: fonttools>=4.22.0 in /usr/local/lib/python3.10/dist-packages (from matplotlib) (4.51.0)\n",
            "Requirement already satisfied: kiwisolver>=1.0.1 in /usr/local/lib/python3.10/dist-packages (from matplotlib) (1.4.5)\n",
            "Requirement already satisfied: packaging>=20.0 in /usr/local/lib/python3.10/dist-packages (from matplotlib) (24.0)\n",
            "Requirement already satisfied: pillow>=6.2.0 in /usr/local/lib/python3.10/dist-packages (from matplotlib) (9.4.0)\n",
            "Requirement already satisfied: pyparsing>=2.3.1 in /usr/local/lib/python3.10/dist-packages (from matplotlib) (3.1.2)\n",
            "Requirement already satisfied: six>=1.5 in /usr/local/lib/python3.10/dist-packages (from python-dateutil>=2.8.2->pandas) (1.16.0)\n"
          ]
        }
      ]
    },
    {
      "cell_type": "code",
      "source": [
        "from sklearn.feature_selection import SelectKBest\n",
        "from sklearn.feature_selection import f_regression\n",
        "\n",
        "\n",
        "# Data Cleaning\n",
        "fifa_df.dropna(inplace=True)\n",
        "fifa_df= fifa_df[fifa_df['home_xg'] > 0]\n",
        "\n",
        "# Drop irrelevant columns (CustomerID, InvoiceDate) for correlation analysis\n",
        "data_correlation = fifa_df.drop(columns=[ 'venue'])\n",
        "# Drop non-numeric columns (like product codes)\n",
        "data_numeric = data_correlation.select_dtypes(include=np.number)\n",
        "# Calculate correlation matrix\n",
        "correlation_matrix = data_numeric.corr()\n",
        "\n",
        "# Get absolute correlation values with the target variable ('TotalPrice')\n",
        "correlation_with_target = abs(correlation_matrix['home_xg']).sort_values(ascending=False)\n",
        "\n",
        "# Select top correlated features (excluding 'TotalPrice' itself)\n",
        "selected_features = correlation_with_target[1:].index.tolist()  # Exclude 'TotalPrice'\n",
        "\n",
        "# Further Feature Selection based on selected features\n",
        "X = fifa_df[selected_features]\n",
        "y = fifa_df['home_xg']\n",
        "\n",
        "# Perform feature selection using SelectKBest and f_regression\n",
        "selector = SelectKBest(score_func=f_regression, k=min(2, len(selected_features)))\n",
        "X_selected = selector.fit_transform(X, y)\n",
        "\n",
        "# Get selected feature indices\n",
        "selected_indices = selector.get_support(indices=True)\n",
        "\n",
        "# Get selected feature names\n",
        "selected_feature_names = X.columns[selected_indices]\n",
        "\n",
        "print(\"Selected Features:\", selected_feature_names)"
      ],
      "metadata": {
        "colab": {
          "base_uri": "https://localhost:8080/"
        },
        "id": "I33F1jyXEXZm",
        "outputId": "e3a38f1d-66fe-42c5-fadc-597d52d0ccc5"
      },
      "execution_count": 41,
      "outputs": [
        {
          "output_type": "stream",
          "name": "stdout",
          "text": [
            "Selected Features: Index(['home_sot', 'home_total_shots'], dtype='object')\n"
          ]
        }
      ]
    },
    {
      "cell_type": "code",
      "source": [],
      "metadata": {
        "id": "VGQaKvdhHtJK"
      },
      "execution_count": null,
      "outputs": []
    }
  ],
  "metadata": {
    "colab": {
      "provenance": [],
      "include_colab_link": true
    },
    "kernelspec": {
      "display_name": "Python 3",
      "name": "python3"
    }
  },
  "nbformat": 4,
  "nbformat_minor": 0
}